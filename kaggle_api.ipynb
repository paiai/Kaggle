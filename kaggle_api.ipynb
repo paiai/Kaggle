{
 "cells": [
  {
   "cell_type": "markdown",
   "metadata": {},
   "source": [
    "## Kaggle API \n",
    "\n",
    "* [Official Kaggle API](https://github.com/Kaggle/kaggle-api)"
   ]
  },
  {
   "cell_type": "markdown",
   "metadata": {},
   "source": [
    "### Kaggle API 설치"
   ]
  },
  {
   "cell_type": "code",
   "execution_count": 3,
   "metadata": {},
   "outputs": [
    {
     "name": "stdout",
     "output_type": "stream",
     "text": [
      "Collecting kaggle\n",
      "  Downloading kaggle-1.0.5.tar.gz\n",
      "Requirement already satisfied: urllib3>=1.15 in /Users/leesu/anaconda3/lib/python3.6/site-packages (from kaggle)\n",
      "Requirement already satisfied: six>=1.10 in /Users/leesu/anaconda3/lib/python3.6/site-packages (from kaggle)\n",
      "Requirement already satisfied: certifi in /Users/leesu/anaconda3/lib/python3.6/site-packages (from kaggle)\n",
      "Requirement already satisfied: python-dateutil in /Users/leesu/anaconda3/lib/python3.6/site-packages (from kaggle)\n",
      "Building wheels for collected packages: kaggle\n",
      "  Running setup.py bdist_wheel for kaggle ... \u001b[?25ldone\n",
      "\u001b[?25h  Stored in directory: /Users/leesu/Library/Caches/pip/wheels/56/4a/b5/93df30500029d78108fdfaace4f08fb881d27903f795a6367e\n",
      "Successfully built kaggle\n",
      "Installing collected packages: kaggle\n",
      "Successfully installed kaggle-1.0.5\n"
     ]
    }
   ],
   "source": [
    "!pip install kaggle"
   ]
  },
  {
   "cell_type": "code",
   "execution_count": 4,
   "metadata": {},
   "outputs": [
    {
     "name": "stdout",
     "output_type": "stream",
     "text": [
      "Name: kaggle\r\n",
      "Version: 1.0.5\r\n",
      "Summary: Kaggle API\r\n",
      "Home-page: https://github.com/Kaggle/kaggle-api\r\n",
      "Author: Kaggle\r\n",
      "Author-email: support@kaggle.com\r\n",
      "License: Apache 2.0\r\n",
      "Location: /Users/leesu/anaconda3/lib/python3.6/site-packages\r\n",
      "Requires: certifi, urllib3, python-dateutil, six\r\n"
     ]
    }
   ],
   "source": [
    "!pip show kaggle"
   ]
  },
  {
   "cell_type": "markdown",
   "metadata": {},
   "source": [
    "### Kaggle API가 설치된 위치를 확인한 후 다운로드 한 kaggle.json 파일을 이동시킨다"
   ]
  },
  {
   "cell_type": "code",
   "execution_count": 5,
   "metadata": {},
   "outputs": [
    {
     "name": "stdout",
     "output_type": "stream",
     "text": [
      "Your files will be downloaded to /Users/leesu/.kaggle\r\n"
     ]
    }
   ],
   "source": [
    "!kaggle config path"
   ]
  },
  {
   "cell_type": "markdown",
   "metadata": {},
   "source": [
    "커맨드에서 실행 - kaggle.json 파일을 [kaggle config path] 아래에 위치하도록 이동한 후에 권한 설정\n",
    "\n",
    "    $ mv Downloads/kaggle.json /Users/leesu/.kaggle/.\n",
    "$ chmod 600 /Users/leesu/.kaggle/kaggle.json\n",
    "\n",
    "(on Windows in the location C:\\Users\\<Windows-username>\\.kaggle\\kaggle.json)"
   ]
  },
  {
   "cell_type": "markdown",
   "metadata": {},
   "source": [
    "### Commands\n",
    "    kaggle competitions {list, files, download, submit, submissions}\n",
    "    kaggle datasets {list, files, download}\n",
    "    kaggle config {path}"
   ]
  },
  {
   "cell_type": "code",
   "execution_count": 12,
   "metadata": {},
   "outputs": [
    {
     "name": "stdout",
     "output_type": "stream",
     "text": [
      "usage: kaggle competitions list [-h] [-p PAGE] [-s SEARCH] [-v]\r\n",
      "\r\n",
      "optional arguments:\r\n",
      "  -h, --help            show this help message and exit\r\n",
      "  -p PAGE, --page PAGE  page number\r\n",
      "  -s SEARCH, --search SEARCH\r\n",
      "                        term(s) to search for\r\n",
      "  -v, --csv             print in CSV format\r\n",
      "                        (if not set print in table format)\r\n"
     ]
    }
   ],
   "source": [
    "# 도움말 보기\n",
    "!kaggle competitions list -h"
   ]
  },
  {
   "cell_type": "code",
   "execution_count": 13,
   "metadata": {},
   "outputs": [
    {
     "name": "stdout",
     "output_type": "stream",
     "text": [
      "ref                                        deadline             category      reward  teamCount  userHasEntered  \r\n",
      "-----------------------------------------  -------------------  --------  ----------  ---------  --------------  \r\n",
      "hhp                                        2013-04-04 07:00:00  Featured    $500,000       1353           False  \r\n",
      "diabetic-retinopathy-detection             2015-07-27 23:59:00  Featured    $100,000        661           False  \r\n",
      "ultrasound-nerve-segmentation              2016-08-18 23:59:00  Featured    $100,000        923           False  \r\n",
      "melbourne-university-seizure-prediction    2016-12-01 23:59:00  Research     $20,000        478           False  \r\n",
      "msk-redefining-cancer-treatment            2017-10-02 23:59:00  Research     $15,000       1386           False  \r\n",
      "second-annual-data-science-bowl            2016-03-14 23:59:00  Featured    $200,000        192           False  \r\n",
      "intel-mobileodt-cervical-cancer-screening  2017-06-21 23:59:00  Featured    $100,000        848           False  \r\n",
      "data-science-bowl-2017                     2017-04-12 23:59:00  Featured  $1,000,000       1972           False  \r\n",
      "datasciencebowl                            2015-03-16 23:59:00  Featured    $175,000       1049           False  \r\n"
     ]
    }
   ],
   "source": [
    "# health 와 관련된 경진대회 리스트 보기\n",
    "!kaggle competitions list -s health"
   ]
  },
  {
   "cell_type": "code",
   "execution_count": 14,
   "metadata": {},
   "outputs": [
    {
     "name": "stdout",
     "output_type": "stream",
     "text": [
      "ref                                     deadline             category            reward  teamCount  userHasEntered  \r\n",
      "--------------------------------------  -------------------  ---------------  ---------  ---------  --------------  \r\n",
      "word2vec-nlp-tutorial                   2015-06-30 23:59:00  Getting Started  Knowledge        578            True  \r\n",
      "titanic                                 2020-04-07 00:00:00  Getting Started  Knowledge       9543            True  \r\n",
      "street-view-getting-started-with-julia  2017-01-07 00:00:00  Getting Started  Knowledge         56           False  \r\n",
      "spooky-author-identification            2017-12-15 23:59:00  Playground         $25,000       1244           False  \r\n"
     ]
    }
   ],
   "source": [
    "# 튜토리얼과 관련된 경진대회 리스트 보기\n",
    "!kaggle competitions list -s tutorial"
   ]
  },
  {
   "cell_type": "code",
   "execution_count": 15,
   "metadata": {},
   "outputs": [
    {
     "name": "stdout",
     "output_type": "stream",
     "text": [
      "train.csv: Downloaded 60KB of 60KB\n",
      "test.csv: Downloaded 28KB of 28KB\n",
      "gender_submission.csv: Downloaded 3KB of 3KB\n"
     ]
    }
   ],
   "source": [
    "# 타이타닉 경진대회 데이터셋 다운로드\n",
    "!kaggle competitions download -c titanic"
   ]
  },
  {
   "cell_type": "code",
   "execution_count": 17,
   "metadata": {},
   "outputs": [
    {
     "name": "stdout",
     "output_type": "stream",
     "text": [
      "gender_submission.csv  test.csv               train.csv\r\n"
     ]
    }
   ],
   "source": [
    "# 기본으로 설정된 다운로드 경로\n",
    "%ls ~/.kaggle/competitions/titanic/"
   ]
  },
  {
   "cell_type": "code",
   "execution_count": 20,
   "metadata": {},
   "outputs": [
    {
     "name": "stdout",
     "output_type": "stream",
     "text": [
      "train.csv: Downloaded 60KB of 60KB\n",
      "test.csv: Downloaded 28KB of 28KB\n",
      "gender_submission.csv: Downloaded 3KB of 3KB\n"
     ]
    }
   ],
   "source": [
    "# 다운로드 경로를 설정해서 다운로드 받는 방법\n",
    "!kaggle competitions download -c titanic -p ./kaggle_api_data/titanic"
   ]
  },
  {
   "cell_type": "code",
   "execution_count": 22,
   "metadata": {},
   "outputs": [
    {
     "name": "stdout",
     "output_type": "stream",
     "text": [
      "name                   size  creationDate         \r\n",
      "---------------------  ----  -------------------  \r\n",
      "train.csv              60KB  2013-06-28 13:40:25  \r\n",
      "test.csv               28KB  2013-06-28 13:40:24  \r\n",
      "gender_submission.csv   3KB  2017-02-01 01:49:18  \r\n"
     ]
    }
   ],
   "source": [
    "# 다운로드 된 파일 확인\n",
    "!kaggle competitions files -c titanic"
   ]
  },
  {
   "cell_type": "markdown",
   "metadata": {},
   "source": [
    "### Submission\n",
    "* 경진대회 약관에 동의한 경우 API로 서브미션이 가능하다\n",
    "\n",
    "kaggle competitions submit -c favorita-grocery-sales-forecasting -f sample_submission_favorita.csv.7z -m \"My submission message\""
   ]
  },
  {
   "cell_type": "code",
   "execution_count": 27,
   "metadata": {},
   "outputs": [
    {
     "name": "stdout",
     "output_type": "stream",
     "text": [
      "Successfully submitted to Bike Sharing Demand"
     ]
    }
   ],
   "source": [
    "!kaggle competitions submit -c bike-sharing-demand -f ./bike-sharing-demand/submissions/2018-02-15_22-24-55_0.08858_baseline-script.csv -m 'API submit Test'"
   ]
  },
  {
   "cell_type": "code",
   "execution_count": 28,
   "metadata": {
    "scrolled": true
   },
   "outputs": [
    {
     "name": "stdout",
     "output_type": "stream",
     "text": [
      "fileName                                         date                 description      status    publicScore  privateScore  \r\n",
      "-----------------------------------------------  -------------------  ---------------  --------  -----------  ------------  \r\n",
      "2018-02-15_22-24-55_0.08858_baseline-script.csv  2018-02-17 09:49:41  API submit Test  complete  0.38659      None          \r\n",
      "2018-02-15_22-50-17_0.08814_baseline-script.csv  2018-02-17 09:47:50  API submit msg   complete  1.88451      None          \r\n",
      "2018-02-15_22-50-17_0.08814_baseline-script.csv  2018-02-15 13:56:50  None             complete  1.88451      None          \r\n",
      "2018-02-15_22-46-43_0.08797_baseline-script.csv  2018-02-15 13:47:56  None             complete  1.89375      None          \r\n",
      "2018-02-15_22-24-55_0.08858_baseline-script.csv  2018-02-15 13:25:28  None             complete  0.38659      None          \r\n",
      "2018-02-15_22-18-56_0.08791_baseline-script.csv  2018-02-15 13:19:14  None             complete  0.39950      None          \r\n",
      "2018-02-15_22-16-35_0.08814_baseline-script.csv  2018-02-15 13:16:53  None             complete  0.39802      None          \r\n",
      "2018-02-15_21-48-19_0.36181_baseline-script.csv  2018-02-15 12:49:02  None             complete  3.08536      None          \r\n",
      "2018-02-15_21-39-25_0.36181_baseline-script.csv  2018-02-15 12:43:16  None             complete  0.42023      None          \r\n",
      "2018-02-15_21-35-01_0.36335_baseline-script.csv  2018-02-15 12:35:58  None             complete  0.42191      None          \r\n",
      "Score_0.33107_submission.csv                     2018-02-15 12:03:41  None             complete  0.41903      None          \r\n",
      "2018-02-13_21-43-46_0.37926_baseline-script.csv  2018-02-13 12:52:01  None             complete  0.43019      None          \r\n",
      "beat-the-top-10.csv                              2017-11-04 04:30:10  None             complete  0.42935      None          \r\n",
      "beat-the-top-10.csv                              2017-11-04 04:18:41  None             complete  0.42912      None          \r\n",
      "beat-the-top-10.csv                              2017-11-04 03:33:41  None             complete  0.43071      None          \r\n",
      "beat-the-top-10.csv                              2017-11-04 03:15:41  None             complete  0.42955      None          \r\n",
      "beat-the-top-10.csv                              2017-11-04 03:11:56  None             complete  0.42840      None          \r\n",
      "baseline-script.csv                              2017-10-18 05:52:11  None             complete  0.48911      None          \r\n",
      "baseline-script.csv                              2017-10-15 10:22:43  None             complete  0.49144      None          \r\n",
      "baseline-script.csv                              2017-10-15 10:13:36  None             complete  0.49299      None          \r\n"
     ]
    }
   ],
   "source": [
    "!kaggle competitions submissions -c word2vec-nlp-tutorial"
   ]
  },
  {
   "cell_type": "code",
   "execution_count": null,
   "metadata": {
    "collapsed": true
   },
   "outputs": [],
   "source": []
  },
  {
   "cell_type": "code",
   "execution_count": null,
   "metadata": {
    "collapsed": true
   },
   "outputs": [],
   "source": []
  },
  {
   "cell_type": "code",
   "execution_count": null,
   "metadata": {
    "collapsed": true
   },
   "outputs": [],
   "source": []
  },
  {
   "cell_type": "code",
   "execution_count": null,
   "metadata": {
    "collapsed": true
   },
   "outputs": [],
   "source": []
  },
  {
   "cell_type": "markdown",
   "metadata": {},
   "source": [
    "## Data Download"
   ]
  },
  {
   "cell_type": "markdown",
   "metadata": {},
   "source": [
    "### Digit-recognizer"
   ]
  },
  {
   "cell_type": "code",
   "execution_count": 1,
   "metadata": {},
   "outputs": [
    {
     "name": "stdout",
     "output_type": "stream",
     "text": [
      "ref               deadline             category            reward  teamCount  userHasEntered  \r\n",
      "----------------  -------------------  ---------------  ---------  ---------  --------------  \r\n",
      "digit-recognizer  2020-01-07 00:00:00  Getting Started  Knowledge       1852            True  \r\n"
     ]
    }
   ],
   "source": [
    "!kaggle competitions list -s digit-recognizer"
   ]
  },
  {
   "cell_type": "code",
   "execution_count": 2,
   "metadata": {},
   "outputs": [
    {
     "name": "stdout",
     "output_type": "stream",
     "text": [
      "train.csv: Downloaded 73MB of 73MB\n",
      "test.csv: Downloaded 49MB of 49MB\n",
      "sample_submission.csv: Downloaded 235KB of 235KB\n"
     ]
    }
   ],
   "source": [
    "!kaggle competitions download -c digit-recognizer -p ./"
   ]
  },
  {
   "cell_type": "code",
   "execution_count": null,
   "metadata": {
    "collapsed": true
   },
   "outputs": [],
   "source": []
  },
  {
   "cell_type": "code",
   "execution_count": null,
   "metadata": {
    "collapsed": true
   },
   "outputs": [],
   "source": []
  }
 ],
 "metadata": {
  "kernelspec": {
   "display_name": "Python 3",
   "language": "python",
   "name": "python3"
  },
  "language_info": {
   "codemirror_mode": {
    "name": "ipython",
    "version": 3
   },
   "file_extension": ".py",
   "mimetype": "text/x-python",
   "name": "python",
   "nbconvert_exporter": "python",
   "pygments_lexer": "ipython3",
   "version": "3.6.2"
  }
 },
 "nbformat": 4,
 "nbformat_minor": 2
}
